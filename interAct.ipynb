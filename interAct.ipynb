{
 "cells": [
  {
   "cell_type": "code",
   "execution_count": 1,
   "metadata": {},
   "outputs": [],
   "source": [
    "# import dependencies\n",
    "import random as rn\n",
    "from simpful import *\n",
    "import warnings\n",
    "# Ignore all warnings\n",
    "warnings.filterwarnings(\"ignore\")\n",
    "import string\n",
    "import pickle"
   ]
  },
  {
   "cell_type": "markdown",
   "metadata": {},
   "source": [
    "## Importing the machine learning model for sentiment analysis"
   ]
  },
  {
   "cell_type": "code",
   "execution_count": 2,
   "metadata": {},
   "outputs": [],
   "source": [
    "# natural language processing block\n",
    "import spacy\n",
    "nlp = spacy.load('en_core_web_sm')\n",
    "import string\n",
    "punct = string.punctuation\n",
    "from spacy.lang.en.stop_words import STOP_WORDS\n",
    "stopwords = list(STOP_WORDS) # list of stopwords\n",
    "\n",
    "# creating a function for data cleaning\n",
    "def text_data_cleaning(sentence):\n",
    "  doc = nlp(sentence)\n",
    "\n",
    "  tokens = [] # list of tokens\n",
    "  for token in doc:\n",
    "    if token.lemma_ != \"-PRON-\":\n",
    "      temp = token.lemma_.lower().strip()\n",
    "    else:\n",
    "      temp = token.lower_\n",
    "    tokens.append(temp)\n",
    " \n",
    "  cleaned_tokens = []\n",
    "  for token in tokens:\n",
    "    if token not in stopwords and token not in punct:    # Stopwords and punctuation removal\n",
    "      cleaned_tokens.append(token)\n",
    "  return cleaned_tokens"
   ]
  },
  {
   "cell_type": "code",
   "execution_count": 3,
   "metadata": {},
   "outputs": [],
   "source": [
    "# sentiment analysis model\n",
    "import pickle\n",
    "# Load the saved model using pickle\n",
    "with open('emotion_detector.pkl', 'rb') as file:\n",
    "    loaded_model = pickle.load(file)"
   ]
  },
  {
   "cell_type": "markdown",
   "metadata": {},
   "source": [
    "# Defining the HSTN"
   ]
  },
  {
   "cell_type": "code",
   "execution_count": 4,
   "metadata": {},
   "outputs": [],
   "source": [
    "class hstn():\n",
    "    \n",
    "    # initiating the interaction counter\n",
    "    interaction_counter = 0\n",
    "    # initiating user engagement\n",
    "    user_input = []\n",
    "    currentSuperStateTransition = False\n",
    "    userEngagement = 0\n",
    "    userOpinion_positive = []\n",
    "    nextSuperState = 2 # 0: supporting user; 1: listening to user; 2: main task\n",
    "    number_of_interactions_fixed = 6\n",
    "\n",
    "    # rules\n",
    "    # first system looks for 6 interactions\n",
    "    # after the a superstate breaks, switches to other superstate then, it willl looks for next three interactions before making IM decision \n",
    "\n",
    "    # Main state - Greeting\n",
    "    def greeting(self):\n",
    "        greeting_responses = [\"Hi!\",\"Good morning\",\"Hey, what's up?\",\"Greetings!\",\"How are you doing?\",\"Hi, there! How's your day going?\",\n",
    "                              \"Hey, nice to see you!\",\"Well, hello to you too!\",\"Hi, how can I assist you today?\",\"Hello, friend!\",\n",
    "                              \"How's everything?\",\"Hey, it's great to see you again!\",\"Hi there, what's new?\",\"How's your day been so far?\",\n",
    "                              \"Hello, how's life treating you?\"]\n",
    "        print (greeting_responses[rn.randint(0,len(greeting_responses)-1)])\n",
    "\n",
    "    # super state - about lecture\n",
    "    def about_lecture(self, sentence):\n",
    "        about_lec = sentence\n",
    "        #print (about_lec)\n",
    "        print (about_lec)\n",
    "        return about_lec \n",
    "    \n",
    "    # super state - task organization\n",
    "    def task_organization(self, sentence):\n",
    "        # superstate - Task organization\n",
    "        task_org_responses = sentence\n",
    "        return task_org_responses\n",
    "    \n",
    "    # superstate - Ask about student interaction\n",
    "    def student_interaction(self, sentence):\n",
    "        # superstate - Student Interaction\n",
    "        student_int_responses = sentence\n",
    "        return student_int_responses\n",
    "    \n",
    "    # superstate - Ask about Clarity \n",
    "    def clarity(self, sentence):\n",
    "        # superstate ask about Clarity of the lecture\n",
    "        clarity_responses = sentence\n",
    "        return clarity_responses\n",
    "    \n",
    "    # listeing to user\n",
    "    def listening_to_user(self, sentence):\n",
    "        listening_response = sentence\n",
    "        return listening_response\n",
    "\n",
    "    # supporting to user\n",
    "    def Supporting_user(self, sentence):\n",
    "        supporting_user = sentence\n",
    "        return supporting_user\n",
    "    \n",
    "    # Main state - Concluding\n",
    "    def concluding(self):\n",
    "        concluding_responses = [\"Thank you for your insights and valuable input. Your perspective is greatly appreciated\", \"I appreciate your time and thoughtful responses. Thank you for sharing your thoughts with me\",\n",
    "                                \"Thank you for taking the time to discuss these matters with me. Your input has been instrumental\", \"I'm grateful for the opportunity to hear your thoughts on this. Thank you for your time and thoughtful contributions\",\n",
    "                                \"Your time and expertise are highly valued. Thank you for engaging in this discussion with me\", \"Thank you for spending your valuable time sharing your experiences and opinions. It has been a meaningful conversation\",\n",
    "                                \"I want to express my gratitude for your time and the enriching conversation we've had. Thank you for your insights\", \"Thank you for your thoughtful responses. Your time and input have been invaluable to this discussion\",\n",
    "                                \"I appreciate the depth of our conversation. Thank you for dedicating your time and sharing your perspective with me\", \"Thank you for your time and openness in discussing these matters. It has been a pleasure engaging in this conversation with you\"]\n",
    "        print (concluding_responses[rn.randint(0,len(concluding_responses)-1)])\n",
    "\n",
    "    # calulating the fuzzy output value considering emotional cue and user engagement as input\n",
    "    def calc_fuzzy(self, val1, val2):\n",
    "        # A simple fuzzy inference system for the tipping problem\n",
    "        # A simple fuzzy inference system for the tipping problem\n",
    "        # Create a fuzzy system object\n",
    "        FS = simpful.FuzzySystem()\n",
    "\n",
    "        # Define fuzzy sets and linguistic variables\n",
    "        S_1 = simpful.FuzzySet(points=[[0., 1.], [0.19, 1.], [0.49, 0.0]], term='Negative')\n",
    "        S_2 = simpful.FuzzySet(points=[[0.203 , 0.], [0.503 , 1.], [0.8023, 0.]], term=\"Neutral\")\n",
    "        S_3 = simpful.FuzzySet(points=[[0.5011, 0.], [0.798 , 1.], [1., 1.]], term=\"Positive\")\n",
    "        FS.add_linguistic_variable(\"Emotion\", simpful.LinguisticVariable([S_1, S_2, S_3], concept=\"Recent Emotion\", universe_of_discourse=[0,1]))\n",
    "\n",
    "        F_1 = simpful.FuzzySet(points=[[0., 1.], [0.097, 1.0], [0.2974, 0]], term=\"Very_low\")\n",
    "        F_2 = simpful.FuzzySet(points=[[0.157, 0.0], [0.34, 1.0], [0.5043, 0.0]], term=\"Low\")\n",
    "        F_3 = simpful.FuzzySet(points=[[0.4, 0.0], [0.5, 1], [0.6008, 0.0]], term=\"Medium\")\n",
    "        F_4 = simpful.FuzzySet(points=[[0.5, 0.0], [0.758, 1.0], [0.851, 0.0]], term=\"High\")\n",
    "        F_5 = simpful.FuzzySet(points=[[0.702, 0.0], [0.9009, 1], [1.0, 1.0]], term=\"Very_High\")\n",
    "        FS.add_linguistic_variable(\"Engagement\", simpful.LinguisticVariable([F_1, F_2, F_3, F_4, F_5], concept=\"User Engagement\", universe_of_discourse=[0,1]))\n",
    "\n",
    "        # Define output crisp values\n",
    "        FS.set_crisp_output_value(\"Supporting\", 0.1)\n",
    "        FS.set_crisp_output_value(\"Listening\", 0.5)\n",
    "        FS.set_crisp_output_value(\"Main\", 1.0)\n",
    "\n",
    "        # Define function for generous tip (food score + service score + 5%)\n",
    "        #FS.set_output_function(\"generous\", \"Food+Service+5\")\n",
    "\n",
    "        # Define fuzzy rules\n",
    "        R1 = \"IF (Emotion IS Negative) AND (Engagement IS Very_low) THEN (Tip IS Supporting)\"\n",
    "        R2 = \"IF (Emotion IS Negative) AND (Engagement IS Low) THEN (Tip IS Supporting)\"\n",
    "        R3 = \"IF (Emotion IS Negative) AND (Engagement IS Medium) THEN (Tip IS Supporting)\"\n",
    "        R4 = \"IF (Emotion IS Negative) AND (Engagement IS High) THEN (Tip IS Listening)\"\n",
    "        R5 = \"IF (Emotion IS Negative) AND (Engagement IS Very_High) THEN (Tip IS Listening)\"\n",
    "        R6 = \"IF (Emotion IS Neutral) AND (Engagement IS Very_low) THEN (Tip IS Supporting)\"\n",
    "        R7 = \"IF (Emotion IS Neutral) AND (Engagement IS Low) THEN (Tip IS Supporting)\"\n",
    "        R8 = \"IF (Emotion IS Neutral) AND (Engagement IS Medium) THEN (Tip IS Listening)\"\n",
    "        R9 = \"IF (Emotion IS Neutral) AND (Engagement IS High) THEN (Tip IS Main)\"\n",
    "        R10 = \"IF (Emotion IS Neutral) AND (Engagement IS Very_High) THEN (Tip IS Main)\"\n",
    "        R11 = \"IF (Emotion IS Positive) AND (Engagement IS Very_low) THEN (Tip IS Supporting)\"\n",
    "        R12 = \"IF (Emotion IS Positive) AND (Engagement IS Low) THEN (Tip IS Supporting)\"\n",
    "        R13 = \"IF (Emotion IS Positive) AND (Engagement IS Medium) THEN (Tip IS Listening)\"\n",
    "        R14 = \"IF (Emotion IS Positive) AND (Engagement IS High) THEN (Tip IS Main)\"\n",
    "        R15 = \"IF (Emotion IS Positive) AND (Engagement IS Very_High) THEN (Tip IS Main)\"\n",
    "        FS.add_rules([R1, R2, R3,R4,R5,R6,R7,R8,R9,R10,R11,R12,R13,R14,R15])\n",
    "\n",
    "\n",
    "        # Set antecedents values\n",
    "        FS.set_variable(\"Emotion\", val1)\n",
    "        FS.set_variable(\"Engagement\", val2)\n",
    "\n",
    "        # Perform Sugeno inference and print output\n",
    "        return(FS.Sugeno_inference([\"Tip\"]))\n",
    "    \n",
    "    # defining a function for calculating user engagement\n",
    "    def calc_user_eng(self, array):\n",
    "        # assuming array consists of all the user responses\n",
    "        last_six_int = array[-6:]\n",
    "        # total words in last 6 interactions\n",
    "        total_words = 0\n",
    "        # a way if getting total number of words in recent 6 interactions\n",
    "        for i in last_six_int:\n",
    "            words = i.split()\n",
    "            total_words = total_words + len(words)\n",
    "        # getting number of long responses\n",
    "        long_response = 0\n",
    "        for i in last_six_int:\n",
    "            if len(i.split()) >= (total_words / 6):\n",
    "                long_response = long_response + 1\n",
    "        return (long_response / 6)\n",
    "    \n",
    "    # defining a function for calculating user opinon\n",
    "    def calc_user_opn(self, array):\n",
    "        # assuming array consist of all of the user opnions for their responses\n",
    "        last_six_int = array[-6:]\n",
    "        # the above have a mix of 'positive' and 'negative'\n",
    "        pos_opn = 0\n",
    "        for i in last_six_int:\n",
    "            if i == \"positive\":\n",
    "                pos_opn = pos_opn + 1\n",
    "        return (pos_opn / 6)\n",
    "\n",
    "    # a method to loop through all sentences in a list\n",
    "    def loop_all(self, sentence, loaded_model):\n",
    "        #print (type(sentence))\n",
    "        if len(sentence) > 0:\n",
    "            for i in sentence:\n",
    "                print (i)\n",
    "                user_input_instant = self.get_user_input()\n",
    "                opinion = loaded_model.predict([user_input_instant])\n",
    "                print (opinion)\n",
    "                self.userOpinion_positive.append(opinion)\n",
    "\n",
    "                self.interaction_counter = self.interaction_counter + 1\n",
    "                if (self.interaction_counter) >= self.number_of_interactions_fixed:\n",
    "                    # once the number of interaction exceeded 6 then system looks for next 3 interactions before changing interaction mode\n",
    "                    #self.number_of_interactions_fixed = 6\n",
    "                    \n",
    "                    # getting interaction modes\n",
    "                    self.state_switch(self.userOpinion_positive, self.user_input, self.currentSuperStateTransition)\n",
    "\n",
    "                    # decison making based on interaction modes\n",
    "                    if (self.nextSuperState == 2):\n",
    "                        pass\n",
    "\n",
    "                    elif (self.nextSuperState == 1):\n",
    "                        self.interaction_counter = 0\n",
    "                        self.loop_all(self.listening_to_user, loaded_model)\n",
    "\n",
    "                    elif (self.nextSuperState == 0):\n",
    "                        self.interaction_counter = 0\n",
    "                        self.loop_all(self.Supporting_user, loaded_model)\n",
    "\n",
    "                    elif (self.nextSuperState == 3):\n",
    "                        break\n",
    "\n",
    "                    else:\n",
    "                        pass        \n",
    "        else:\n",
    "            # ignoring the empty list \n",
    "            pass\n",
    "\n",
    "    # defining state switching condition\n",
    "    def state_switch(self, userOpinion, userEngagement, currentSuperstateTransition):\n",
    "        userOpinion = self.calc_user_opn(userOpinion)\n",
    "        print (userOpinion)\n",
    "        userEngagement = self.calc_user_eng(userEngagement)\n",
    "        print (userEngagement)\n",
    "        interactionMode = self.calc_fuzzy(userOpinion, userEngagement)\n",
    "        interactionMode = interactionMode['Tip']\n",
    "        if currentSuperstateTransition == False:\n",
    "\n",
    "            if interactionMode <= 0.32:\n",
    "                self.nextSuperState = 0\n",
    "                self.currentSuperStateTransition = True\n",
    "            elif interactionMode <= 0.74:\n",
    "                self.nextSuperState = 1\n",
    "                self.currentSuperStateTransition = True\n",
    "            else:\n",
    "                self.nextSuperState = 2\n",
    "        else:\n",
    "            if interactionMode <= 0.74:\n",
    "                self.nextSuperState = 3 # 3: denotes to break from the current super state and switch to the next direct superstate\n",
    "                self.currentSuperStateTransition = False\n",
    "                self.interaction_counter = 3\n",
    "                \n",
    "            else:\n",
    "                self.nextSuperState = 2 # 2: go ahead with the main task\n",
    "\n",
    "    # run the overall system\n",
    "    def run_system(self):\n",
    "        self.greeting()\n",
    "        self.get_user_input()\n",
    "        self.loop_all(self.about_lecture, loaded_model)\n",
    "        self.loop_all(self.task_organization, loaded_model)\n",
    "        self.loop_all(self.student_interaction, loaded_model)\n",
    "        self.loop_all(self.clarity, loaded_model)\n",
    "        self.concluding()\n",
    "\n",
    "    # get the user input\n",
    "    def get_user_input(self):\n",
    "        user_input_instant = input(\"Type your response here: \")\n",
    "        self.user_input.append(user_input_instant)\n",
    "        return user_input_instant\n",
    "\n",
    "    # getting the user responses at once\n",
    "    def get_user_response(self):\n",
    "        return (self.user_input)\n"
   ]
  },
  {
   "cell_type": "code",
   "execution_count": 5,
   "metadata": {},
   "outputs": [],
   "source": [
    "text1 = [\"What were the main key points or takeaways from today's lecture?\",\"Can you summarize the lecture in your own words?\",\n",
    "                            \"Were there any concepts or ideas discussed in the lecture that you found challenging or unclear? If so, please explain.\",\n",
    "                            \"How do you think the material covered in this lecture relates to previous lectures or topics we've discussed in the course?\",\n",
    "                            \"Can you provide an example or real-life application of one of the concepts discussed in the lecture?\",\n",
    "                            \"Did the lecturer mention any open questions or areas of research related to the topic? What are your thoughts on those?\",\n",
    "                            \"How would you apply what you've learned in today's lecture to solve a specific problem or scenario?\",\n",
    "                            \"Were there any interesting or surprising insights from the lecture that you'd like to share or discuss further?\",\n",
    "                            \"Can you identify any connections between the content of this lecture and current events or trends in the field?\",\n",
    "                            \"Do you have any questions or concerns about the material that was covered today?\"]\n",
    "\n",
    "text2 = [\"Speed of the sessions/time management were reasonable\",\"Relevant course matter was provided\",\n",
    "                                \"Recommended useful textbooks, websites, periodicals\",\"Syllabus was substantially covered in the class\",\n",
    "                                \"Number of worked examples and tutorials were adequate\",\"The lecturer promotes self studies by the student\",\n",
    "                                \"Practical applications relevant to the module were discussed\",\"Professional approach of the lecturer was high\",\n",
    "                                \"The lecturer advised regarding evaluation\",\"Continuous assessment helps the learning process\",\n",
    "                                \"Feedback on continuous assessment was helpful to identify my weaknesses before he final examination\"]\n",
    "text3 = [\"To what extent did the lecturer facilitate and encourage active discussions among students?\", \"How effective was the lecturer in creating an environment conducive to student participation?\",\n",
    "                                 \"How frequently did the lecturer recognize and appreciate student responses?\", \"How well did the lecturer manage the balance between encouraging participation and maintaining order?\",\n",
    "                                 \"How actively did the lecturer encourage students to ask questions?\", \"How constructive and helpful was the feedback given to students during discussions?\",\n",
    "                                 \"How well did the lecturer adapt their teaching based on student responses?\", \"What strategies did the lecturer employ to enhance student engagement during discussions?\",\n",
    "                                 \"How effective were these strategies in promoting a dynamic and engaging learning environment?\", \"ow accessible and approachable did the lecturer appear during interactions with students?\",\n",
    "                                 \"How did the lecturer balance individual and group interactions for good learning experience?\"]\n",
    "text4 = [\"Was the pace of the delivery consistent throughout the session?\", \"Did the lecturer maintain an appropriate speed, allowing for easy understanding?\",\n",
    "                             \"How effective were the black/white board or PowerPoint presentations in conveying information?\", \"Could you easily hear and understand the lecturer throughout the session?\",\n",
    "                             \"How clear were the verbal explanations provided by the lecturer?\", \"Were complex concepts articulated in a way that was easy to comprehend?\",\n",
    "                             \"How effectively did the lecturer address questions to ensure understanding?\", \"How responsive was the lecturer to feedback provided by students?\",\n",
    "                             \"How well did the lecturer accommodate diverse learning preferences?\"]\n",
    "text5 = [\"I agree with your opinion\", \"Please share more about your opinion, that will be useful for future students\",\n",
    "                             \"feel free to talk about any inconvenience you have\"]\n",
    "text6 = [\"Please don't miss out any lectures each and every lectures will be valuable\", \"At least you will learn something in the lecture rather than avoiding it\",\n",
    "                          \"In lecutres try to concentrate on what is explained\", \"You can view the lecture materials before the lecture is conducted then you can understand more on lecutre itself\"]\n"
   ]
  },
  {
   "cell_type": "code",
   "execution_count": 6,
   "metadata": {},
   "outputs": [],
   "source": [
    "# creating an object of hstn class\n",
    "dialogue_system = hstn()"
   ]
  },
  {
   "cell_type": "code",
   "execution_count": 7,
   "metadata": {},
   "outputs": [
    {
     "name": "stdout",
     "output_type": "stream",
     "text": [
      "This will be greeting\n",
      "How are you doing?\n",
      "This will be conclusion\n",
      "Your time and expertise are highly valued. Thank you for engaging in this discussion with me\n"
     ]
    }
   ],
   "source": [
    "# asking for greeting\n",
    "print (\"This will be greeting\")\n",
    "dialogue_system.greeting()\n",
    "print (\"This will be conclusion\")\n",
    "dialogue_system.concluding()"
   ]
  },
  {
   "cell_type": "code",
   "execution_count": 8,
   "metadata": {},
   "outputs": [],
   "source": [
    "# storing the text1 in about_lecture method and others for building the diaogue system\n",
    "dialogue_system.about_lecture = text1\n",
    "dialogue_system.clarity = []#text4\n",
    "dialogue_system.student_interaction = []#text3\n",
    "dialogue_system.task_organization = []#text2\n",
    "dialogue_system.listening_to_user = text5\n",
    "dialogue_system.Supporting_user = text6"
   ]
  },
  {
   "cell_type": "code",
   "execution_count": 9,
   "metadata": {},
   "outputs": [
    {
     "name": "stdout",
     "output_type": "stream",
     "text": [
      "Hi!\n",
      "What were the main key points or takeaways from today's lecture?\n",
      "['positive']\n",
      "Can you summarize the lecture in your own words?\n",
      "['negative']\n",
      "Were there any concepts or ideas discussed in the lecture that you found challenging or unclear? If so, please explain.\n",
      "['negative']\n",
      "How do you think the material covered in this lecture relates to previous lectures or topics we've discussed in the course?\n",
      "['positive']\n",
      "Can you provide an example or real-life application of one of the concepts discussed in the lecture?\n",
      "['positive']\n",
      "Did the lecturer mention any open questions or areas of research related to the topic? What are your thoughts on those?\n",
      "['positive']\n",
      "0.6666666666666666\n",
      "0.5\n",
      "  ____  __  _  _  ____  ____  _  _  __   \n",
      " / ___)(  )( \\/ )(  _ \\(  __)/ )( \\(  ) v2.11.0 \n",
      " \\___ \\ )( / \\/ \\ ) __/ ) _) ) \\/ (/ (_/\\ \n",
      " (____/(__)\\_)(_/(__)  (__)  \\____/\\____/\n",
      "\n",
      " Created by Marco S. Nobile (m.s.nobile@tue.nl)\n",
      " and Simone Spolaor (simone.spolaor@unimib.it)\n",
      "\n",
      " * Detected Sugeno model type\n",
      "I agree with your opinion\n",
      "['positive']\n",
      "Please share more about your opinion, that will be useful for future students\n",
      "['negative']\n",
      "feel free to talk about any inconvenience you have\n",
      "['negative']\n",
      "How would you apply what you've learned in today's lecture to solve a specific problem or scenario?\n",
      "['negative']\n",
      "Were there any interesting or surprising insights from the lecture that you'd like to share or discuss further?\n",
      "['positive']\n",
      "Can you identify any connections between the content of this lecture and current events or trends in the field?\n",
      "['positive']\n",
      "0.5\n",
      "0.3333333333333333\n",
      "  ____  __  _  _  ____  ____  _  _  __   \n",
      " / ___)(  )( \\/ )(  _ \\(  __)/ )( \\(  ) v2.11.0 \n",
      " \\___ \\ )( / \\/ \\ ) __/ ) _) ) \\/ (/ (_/\\ \n",
      " (____/(__)\\_)(_/(__)  (__)  \\____/\\____/\n",
      "\n",
      " Created by Marco S. Nobile (m.s.nobile@tue.nl)\n",
      " and Simone Spolaor (simone.spolaor@unimib.it)\n",
      "\n",
      " * Detected Sugeno model type\n",
      "I'm grateful for the opportunity to hear your thoughts on this. Thank you for your time and thoughtful contributions\n"
     ]
    }
   ],
   "source": [
    "# running the overall system\n",
    "dialogue_system.run_system()"
   ]
  },
  {
   "cell_type": "code",
   "execution_count": 10,
   "metadata": {},
   "outputs": [
    {
     "name": "stdout",
     "output_type": "stream",
     "text": [
      "['hello', 'all were good and abour electrical circuits', 'yeah its all about DC circuits', 'yeah the concpets were very well explained by the professor', 'they were awesome', 'yeah the dc transformer analysis is a good example for real life application', 'no that is a drawback in the lecture', 'okay that sounds good', 'yeah if lecture explains more about research then it could have been interesting', 'okay sure thanks for your concern', \"for that i don't have an idea\", \"this was a basic lecture i coudn't get any \", 'no question i have']\n"
     ]
    }
   ],
   "source": [
    "# List of strings\n",
    "strings_list = dialogue_system.get_user_response()\n",
    "print (strings_list)\n",
    "\n",
    "# Open a file named \"output.txt\" in write mode\n",
    "with open(\"output.txt\", \"w\") as file:\n",
    "    # Write each string from the list to the file\n",
    "    for string in strings_list:\n",
    "        file.write(string + \"\\n\")\n",
    "\n"
   ]
  },
  {
   "cell_type": "code",
   "execution_count": 11,
   "metadata": {},
   "outputs": [
    {
     "name": "stdout",
     "output_type": "stream",
     "text": [
      "  ____  __  _  _  ____  ____  _  _  __   \n",
      " / ___)(  )( \\/ )(  _ \\(  __)/ )( \\(  ) v2.11.0 \n",
      " \\___ \\ )( / \\/ \\ ) __/ ) _) ) \\/ (/ (_/\\ \n",
      " (____/(__)\\_)(_/(__)  (__)  \\____/\\____/\n",
      "\n",
      " Created by Marco S. Nobile (m.s.nobile@tue.nl)\n",
      " and Simone Spolaor (simone.spolaor@unimib.it)\n",
      "\n",
      " * Detected Sugeno model type\n"
     ]
    },
    {
     "data": {
      "text/plain": [
       "{'Tip': 0.4896979461777583}"
      ]
     },
     "execution_count": 11,
     "metadata": {},
     "output_type": "execute_result"
    }
   ],
   "source": [
    "dialogue_system.calc_fuzzy(0.5, 0.5)"
   ]
  },
  {
   "cell_type": "markdown",
   "metadata": {},
   "source": [
    "#### Code to make a textfile from recorded user2 responses"
   ]
  },
  {
   "cell_type": "code",
   "execution_count": 12,
   "metadata": {},
   "outputs": [
    {
     "name": "stdout",
     "output_type": "stream",
     "text": [
      "There are 36 responses\n"
     ]
    }
   ],
   "source": [
    "new_response_list = ['hello', \"today's lecture was about solving linear systems of equations, the gaussian elimination method was explained well in lecture\", 'yeah as I said above it is about solving linear systems of equation using gaussian elimination method', 'yeah the concpets were explained well by lecturer, they were all clearly explained', 'this topic included some knowledge from advanced levels but they are very wimple to understand', 'many numercial algorithms in our computer are solved by thi technique, it is really excited to know this', 'yeah, he asked question about our awareness in space research where these kind of numerical algorithms are extensively used. it was quite inspiring', 'okay thank you', 'yeah the lecture was quite intersting', 'yeah sure but now i am fine', 'in our day to day problems i can apply these concepts to solve sensor calibration for instance', 'yeah the talk about space research  was really fascinating', 'yeas recent example of peregrine mission was a really good example', 'yeah the speed was good and i was able to follow the lecture well', 'okay thank you', 'yeah, the space mission related explanations provided by the professor were really interesting and inspiring', 'no i am good', 'yeah they were provided and ther are the good sources for learning', 'yeah they were also provided, i feel they are good for learning as well again', 'yeah the professor was really good at covering everything in the lecture itself', 'yeah they were awesome, example were very excellent', 'yeah he guides the student for self study and it is very inspiring', 'yeah practicall applications were very well described and  they really worth to learn', 'yeah it was really good, professor was very professional, i like that', 'yeah all matters regarding evaluation was given in the class prior to evaluatiousually professor promotes discussions in class and they were really interesting', 'okay sure i will keep this in my mind', 'yeah that is true', 'yeah definitely', 'yah this is a goo sharing what they think and get valuable feedbacks from professor as well as fellow students', 'yeah pace was good', 'okay fine', 'yeah true', 'yes definitely', 'yeah good advice',  'yes speed is okay', 'they were well desigined and they serve the purpose correctly']\n",
    "print (f\"There are {len(new_response_list)} responses\")\n",
    "\n",
    "# Open a file named \"output.txt\" in write mode\n",
    "with open(\"output3.txt\", \"w\") as file:\n",
    "    # Write each string from the list to the file\n",
    "    for string in new_response_list:\n",
    "        file.write(string + \"\\n\")"
   ]
  },
  {
   "cell_type": "code",
   "execution_count": 15,
   "metadata": {},
   "outputs": [
    {
     "name": "stdout",
     "output_type": "stream",
     "text": [
      "  ____  __  _  _  ____  ____  _  _  __   \n",
      " / ___)(  )( \\/ )(  _ \\(  __)/ )( \\(  ) v2.11.0 \n",
      " \\___ \\ )( / \\/ \\ ) __/ ) _) ) \\/ (/ (_/\\ \n",
      " (____/(__)\\_)(_/(__)  (__)  \\____/\\____/\n",
      "\n",
      " Created by Marco S. Nobile (m.s.nobile@tue.nl)\n",
      " and Simone Spolaor (simone.spolaor@unimib.it)\n",
      "\n",
      " * Detected Sugeno model type\n"
     ]
    },
    {
     "data": {
      "text/plain": [
       "{'Tip': 0.48030625301384566}"
      ]
     },
     "execution_count": 15,
     "metadata": {},
     "output_type": "execute_result"
    }
   ],
   "source": [
    "# first interaction mode change\n",
    "dialogue_system.calc_fuzzy(0.666, 0.5)"
   ]
  },
  {
   "cell_type": "code",
   "execution_count": 14,
   "metadata": {},
   "outputs": [
    {
     "name": "stdout",
     "output_type": "stream",
     "text": [
      "  ____  __  _  _  ____  ____  _  _  __   \n",
      " / ___)(  )( \\/ )(  _ \\(  __)/ )( \\(  ) v2.11.0 \n",
      " \\___ \\ )( / \\/ \\ ) __/ ) _) ) \\/ (/ (_/\\ \n",
      " (____/(__)\\_)(_/(__)  (__)  \\____/\\____/\n",
      "\n",
      " Created by Marco S. Nobile (m.s.nobile@tue.nl)\n",
      " and Simone Spolaor (simone.spolaor@unimib.it)\n",
      "\n",
      " * Detected Sugeno model type\n"
     ]
    },
    {
     "data": {
      "text/plain": [
       "{'Tip': 0.4896979461777583}"
      ]
     },
     "execution_count": 14,
     "metadata": {},
     "output_type": "execute_result"
    }
   ],
   "source": [
    "# second interaction mode change\n",
    "dialogue_system.calc_fuzzy(0.5, 0.5)"
   ]
  },
  {
   "cell_type": "code",
   "execution_count": 16,
   "metadata": {},
   "outputs": [
    {
     "name": "stdout",
     "output_type": "stream",
     "text": [
      "  ____  __  _  _  ____  ____  _  _  __   \n",
      " / ___)(  )( \\/ )(  _ \\(  __)/ )( \\(  ) v2.11.0 \n",
      " \\___ \\ )( / \\/ \\ ) __/ ) _) ) \\/ (/ (_/\\ \n",
      " (____/(__)\\_)(_/(__)  (__)  \\____/\\____/\n",
      "\n",
      " Created by Marco S. Nobile (m.s.nobile@tue.nl)\n",
      " and Simone Spolaor (simone.spolaor@unimib.it)\n",
      "\n",
      " * Detected Sugeno model type\n"
     ]
    },
    {
     "data": {
      "text/plain": [
       "{'Tip': 0.4896979461777583}"
      ]
     },
     "execution_count": 16,
     "metadata": {},
     "output_type": "execute_result"
    }
   ],
   "source": [
    "# third interaction mode change\n",
    "dialogue_system.calc_fuzzy(0.5, 0.5)"
   ]
  },
  {
   "cell_type": "code",
   "execution_count": 17,
   "metadata": {},
   "outputs": [
    {
     "name": "stdout",
     "output_type": "stream",
     "text": [
      "  ____  __  _  _  ____  ____  _  _  __   \n",
      " / ___)(  )( \\/ )(  _ \\(  __)/ )( \\(  ) v2.11.0 \n",
      " \\___ \\ )( / \\/ \\ ) __/ ) _) ) \\/ (/ (_/\\ \n",
      " (____/(__)\\_)(_/(__)  (__)  \\____/\\____/\n",
      "\n",
      " Created by Marco S. Nobile (m.s.nobile@tue.nl)\n",
      " and Simone Spolaor (simone.spolaor@unimib.it)\n",
      "\n",
      " * Detected Sugeno model type\n"
     ]
    },
    {
     "data": {
      "text/plain": [
       "{'Tip': 1.0}"
      ]
     },
     "execution_count": 17,
     "metadata": {},
     "output_type": "execute_result"
    }
   ],
   "source": [
    "# fourth interaction mode change\n",
    "dialogue_system.calc_fuzzy(0.83333, 0.666)"
   ]
  },
  {
   "cell_type": "code",
   "execution_count": 18,
   "metadata": {},
   "outputs": [
    {
     "name": "stdout",
     "output_type": "stream",
     "text": [
      "  ____  __  _  _  ____  ____  _  _  __   \n",
      " / ___)(  )( \\/ )(  _ \\(  __)/ )( \\(  ) v2.11.0 \n",
      " \\___ \\ )( / \\/ \\ ) __/ ) _) ) \\/ (/ (_/\\ \n",
      " (____/(__)\\_)(_/(__)  (__)  \\____/\\____/\n",
      "\n",
      " Created by Marco S. Nobile (m.s.nobile@tue.nl)\n",
      " and Simone Spolaor (simone.spolaor@unimib.it)\n",
      "\n",
      " * Detected Sugeno model type\n"
     ]
    },
    {
     "data": {
      "text/plain": [
       "{'Tip': 1.0}"
      ]
     },
     "execution_count": 18,
     "metadata": {},
     "output_type": "execute_result"
    }
   ],
   "source": [
    "\n",
    "dialogue_system.calc_fuzzy(0.8333, 0.8333)"
   ]
  },
  {
   "cell_type": "code",
   "execution_count": 19,
   "metadata": {},
   "outputs": [
    {
     "name": "stdout",
     "output_type": "stream",
     "text": [
      "  ____  __  _  _  ____  ____  _  _  __   \n",
      " / ___)(  )( \\/ )(  _ \\(  __)/ )( \\(  ) v2.11.0 \n",
      " \\___ \\ )( / \\/ \\ ) __/ ) _) ) \\/ (/ (_/\\ \n",
      " (____/(__)\\_)(_/(__)  (__)  \\____/\\____/\n",
      "\n",
      " Created by Marco S. Nobile (m.s.nobile@tue.nl)\n",
      " and Simone Spolaor (simone.spolaor@unimib.it)\n",
      "\n",
      " * Detected Sugeno model type\n"
     ]
    },
    {
     "data": {
      "text/plain": [
       "{'Tip': 0.09999999999999999}"
      ]
     },
     "execution_count": 19,
     "metadata": {},
     "output_type": "execute_result"
    }
   ],
   "source": [
    "dialogue_system.calc_fuzzy(0.83333, 0.16666)"
   ]
  },
  {
   "cell_type": "code",
   "execution_count": 20,
   "metadata": {},
   "outputs": [
    {
     "name": "stdout",
     "output_type": "stream",
     "text": [
      "  ____  __  _  _  ____  ____  _  _  __   \n",
      " / ___)(  )( \\/ )(  _ \\(  __)/ )( \\(  ) v2.11.0 \n",
      " \\___ \\ )( / \\/ \\ ) __/ ) _) ) \\/ (/ (_/\\ \n",
      " (____/(__)\\_)(_/(__)  (__)  \\____/\\____/\n",
      "\n",
      " Created by Marco S. Nobile (m.s.nobile@tue.nl)\n",
      " and Simone Spolaor (simone.spolaor@unimib.it)\n",
      "\n",
      " * Detected Sugeno model type\n"
     ]
    },
    {
     "data": {
      "text/plain": [
       "{'Tip': 0.09999999999999999}"
      ]
     },
     "execution_count": 20,
     "metadata": {},
     "output_type": "execute_result"
    }
   ],
   "source": [
    "# interaction mmode change\n",
    "dialogue_system.calc_fuzzy(0.6666, 0.16666)"
   ]
  },
  {
   "cell_type": "code",
   "execution_count": 21,
   "metadata": {},
   "outputs": [
    {
     "name": "stdout",
     "output_type": "stream",
     "text": [
      "  ____  __  _  _  ____  ____  _  _  __   \n",
      " / ___)(  )( \\/ )(  _ \\(  __)/ )( \\(  ) v2.11.0 \n",
      " \\___ \\ )( / \\/ \\ ) __/ ) _) ) \\/ (/ (_/\\ \n",
      " (____/(__)\\_)(_/(__)  (__)  \\____/\\____/\n",
      "\n",
      " Created by Marco S. Nobile (m.s.nobile@tue.nl)\n",
      " and Simone Spolaor (simone.spolaor@unimib.it)\n",
      "\n",
      " * Detected Sugeno model type\n"
     ]
    },
    {
     "data": {
      "text/plain": [
       "{'Tip': 0.1}"
      ]
     },
     "execution_count": 21,
     "metadata": {},
     "output_type": "execute_result"
    }
   ],
   "source": [
    "dialogue_system.calc_fuzzy(0.5, 0.3333)"
   ]
  },
  {
   "cell_type": "code",
   "execution_count": 23,
   "metadata": {},
   "outputs": [
    {
     "name": "stdout",
     "output_type": "stream",
     "text": [
      "  ____  __  _  _  ____  ____  _  _  __   \n",
      " / ___)(  )( \\/ )(  _ \\(  __)/ )( \\(  ) v2.11.0 \n",
      " \\___ \\ )( / \\/ \\ ) __/ ) _) ) \\/ (/ (_/\\ \n",
      " (____/(__)\\_)(_/(__)  (__)  \\____/\\____/\n",
      "\n",
      " Created by Marco S. Nobile (m.s.nobile@tue.nl)\n",
      " and Simone Spolaor (simone.spolaor@unimib.it)\n",
      "\n",
      " * Detected Sugeno model type\n"
     ]
    },
    {
     "data": {
      "text/plain": [
       "{'Tip': 0.4803065531890307}"
      ]
     },
     "execution_count": 23,
     "metadata": {},
     "output_type": "execute_result"
    }
   ],
   "source": [
    "dialogue_system.calc_fuzzy(0.6666, 0.5)"
   ]
  },
  {
   "cell_type": "code",
   "execution_count": 24,
   "metadata": {},
   "outputs": [],
   "source": [
    "response_list = [\"Hello! Life's treating me well, thank you for asking. How can I assist you today?\", \"The main key points from today's lecture on machine learning with Professor Bishop included understanding various algorithms, their applications, and practical implementations.\", 'The lecture with Professor Bishop covered a wide range of topics in machine learning, from fundamental algorithms to their real-world applications. It provided a balanced mix of theory and practical insights, making it an enriching learning experience.', 'No, I found the concepts discussed in the lecture to be clear and understandable.', \"The material covered in this lecture builds upon the foundational concepts we've previously discussed in the course. It  extends our understanding of machine learning algorithms and their applications, providing deeper insights into the field.\", 'One real-life application discussed in the lecture is the use of machine learning algorithms in healthcare for diagnosing diseases based on medical imaging data, such as X-rays or MRI scans.', 'Yes, the lecturer mentioned some open questions and areas of research related to machine learning, such as improving the interpretability and explainability of complex models, dealing with biased data, and enhancing the robustness of algorithms against adversarial attacks. These are crucial areas for further exploration as they address some of the current limitations and challenges in the field, ultimately advancing the development and deployment of machine learning solutions in various domains.', \"Certainly, I'll make sure not to miss out on any lectures, as each one provides valuable insights and knowledge essential for a comprehensive understanding of the course material.\", 'Absolutely, attending every lecture is essential for continuous learning and growth.  Each lecture offers opportunities to gain new knowledge, deepen understanding, and explore different perspectives, all of which contribute to personal and intellectual development.', \"Of course, concentrating on the explanations provided during lectures is crucial for maximizing learning outcomes. I'll make sure to stay focused and absorb the information presented to enhance my understanding of the subject matter.\", \"That's a great suggestion! Reviewing lecture materials beforehand can indeed provide a solid foundation and better prepare me to grasp the concepts discussed during the lecture. I'll make sure to utilize this approach to enhance my understanding further.\", \"I would apply the concepts learned in today's lecture on machine learning to address a problem such as customer churn prediction for a subscription-based service. By employing classification algorithms taught in the lecture and utilizing historical customer data, I could develop a predictive model to identify customers at risk of churning. This would enable proactive measures to retain customers and optimize business strategies.\", 'One interesting insight from the lecture was the discussion on the ethical considerations of using machine learning algorithms, particularly regarding issues of bias and fairness. It was intriguing to delve into how biases in data can perpetuate societal inequalities and the importance of mitigating these biases in algorithmic decision-making processes. This topic sparked further reflection on the ethical implications of deploying machine learning systems in various contexts and the need for responsible AI practices.', 'Yes, the speed of the sessions and time management were reasonable. The lecturer effectively covered the planned topics within the allocated time, allowing for thorough explanations and ample opportunities for student engagement and discussion.', 'Yes, relevant course material was provided during the lecture, covering key concepts and topics essential for understanding machine learning principles and applications.', 'The lecturer recommended several useful resources for further study, including textbooks like \"Pattern Recognition and Machine Learning\" by Christopher M. Bishop and \"Introduction to Statistical Learning\" by Gareth James et al. Additionally, websites like Towards Data Science and periodicals such as the Journal of Machine Learning Research were suggested for staying updated on the latest research and developments in the field of machine learning.', 'Thank you! If you have any more  questions or need further clarification, feel free to ask.', \"Certainly! My opinion is based on the satisfaction I derived from the lecture experience. The content was well-organized and covered relevant topics in machine learning. The lecturer's approach to teaching, including clear explanations and effective time management, contributed to a positive learning  environment. Additionally, the recommended resources provided valuable supplementary material for further exploration. Overall, I believe future students will find this lecture beneficial for building a strong foundation in machine learning.\", \"I didn't encounter any significant inconveniences during the lecture. However, if I were to suggest areas for improvement, it might be helpful to incorporate more interactive activities or practical demonstrations to reinforce learning. Additionally, providing additional resources or study materials  in advance could further enhance the learning experience for students.\", 'Yes, the syllabus was substantially covered in the class. The lecture included discussions on various topics outlined in the syllabus, such as different machine learning algorithms, their applications, and ethical considerations. The content provided a comprehensive overview of the subject matter, aligning well with the course objectives.', 'Yes, the number of worked examples and tutorials provided during the lecture was adequate. They helped reinforce the theoretical concepts covered and allowed for practical application of the material, enhancing understanding and retention for students.', 'Yes, the lecturer promotes self-study by encouraging students to explore additional resources, such as textbooks, websites, and periodicals, to deepen their understanding of the subject matter. This emphasis on self-study fosters independent learning and allows students to delve deeper into areas of interest within the field of machine learning.', 'Yes, practical applications relevant to the module were extensively discussed during the lecture. The lecturer provided examples of how machine learning algorithms are applied in various real-world scenarios, such as healthcare, finance, and marketing. These practical applications helped illustrate the relevance and importance of the concepts covered in the module.', 'The lecturer actively facilitated and encouraged discussions among students throughout the lecture. They welcomed questions, encouraged participation, and fostered an interactive learning environment. This approach enhanced student engagement and allowed for the exchange of ideas and perspectives, enriching the learning experience for everyone.', 'The lecturer was highly effective in creating an environment conducive to  student participation. They encouraged questions, welcomed diverse viewpoints, and fostered a supportive atmosphere where students felt comfortable sharing their thoughts and engaging in discussions. This approach promoted active participation and enhanced the overall learning experience for everyone involved.', 'The lecturer consistently recognized and appreciated student responses throughout the lecture. They actively acknowledged contributions from students, providing positive feedback and validation for their input. This recognition helped foster a supportive and inclusive learning environment, encouraging continued engagement and participation from all students.', 'Thank you for your agreement! If you have any further questions or need additional information, feel free to ask.', \"The lecture offered a good balance between theory and practical applications, making the concepts clear and engaging. Professor Bishop's explanations were well-organized and easy to follow. This would be helpful for future students who want a solid foundation in machine learning.\", \"No inconvenience to report! I was very satisfied with the lecture overall.  If anything comes to mind, I'll be sure to let you know. \", 'Professor Bishop struck a good balance between encouraging participation and maintaining order. The lecture felt interactive without being disruptive.  ', \"Professor Bishop created a welcoming environment for questions. While I don't recall specific prompts to ask questions every minute, I felt comfortable raising my hand if something needed clarification. \", \"I can't say for certain about the feedback during discussions as my notes don't mention that specifically.  However, since I was satisfied with the level of student interaction, it's likely Professor Bishop provided constructive feedback when needed. \", \"Yes, the pace was likely consistent. As someone with good analytical skills, I would have noticed if the lecture significantly sped up or slowed down throughout. Since I don't recall any such issues, the pace was probably consistent. \", 'Yes. The lecture content was clear and explanations were well-organized, which suggests Professor Bishop maintained an appropriate speed for understanding.  ', \"I can't recall for certain whether Professor Bishop used a blackboard, whiteboard, or PowerPoint during the lecture.  My focus was on the clarity of the explanations, not the specific presentation method.  However, since I was very satisfied with the lecture overall, the chosen method(s) must have been effective  in conveying the information.\", \"Thank you!  I'm glad to hear our perspectives align.   \", 'As someone who appreciates clear explanations, I found the lecture well-structured and easy to follow. This suggests Professor Bishop likely used effective visuals or presentation methods to complement their explanations. This can be helpful for future students who learn  best with a combination of auditory and visual information. ', \"Like before, I didn't experience any major inconveniences during the lecture.  If anything arises in the future lectures, I'll be sure to mention them.  \", 'Yes. The lecture hall acoustics seemed good and Professor Bishop likely spoke clearly, because I had no trouble hearing or understanding them throughout the session. ', \"Very clear.  As someone with good reasoning skills, I rely on precise explanations. Professor Bishop's verbal explanations were well-organized and easy to  follow, which significantly contributed to my positive learning experience. \", \"Yes. The lecture balanced theory with practical applications, which likely helped break down complex concepts. Professor Bishop's clear explanations and well-organized delivery (as suggested by my previous points) would have further aided comprehension of these concepts. \"]"
   ]
  },
  {
   "cell_type": "code",
   "execution_count": 27,
   "metadata": {},
   "outputs": [
    {
     "name": "stdout",
     "output_type": "stream",
     "text": [
      "[\"Hello! Life's treating me well, thank you for asking. How can I assist you today?\", \"The main key points from today's lecture on machine learning with Professor Bishop included understanding various algorithms, their applications, and practical implementations.\", 'The lecture with Professor Bishop covered a wide range of topics in machine learning, from fundamental algorithms to their real-world applications. It provided a balanced mix of theory and practical insights, making it an enriching learning experience.', 'No, I found the concepts discussed in the lecture to be clear and understandable.', \"The material covered in this lecture builds upon the foundational concepts we've previously discussed in the course. It  extends our understanding of machine learning algorithms and their applications, providing deeper insights into the field.\", 'One real-life application discussed in the lecture is the use of machine learning algorithms in healthcare for diagnosing diseases based on medical imaging data, such as X-rays or MRI scans.', 'Yes, the lecturer mentioned some open questions and areas of research related to machine learning, such as improving the interpretability and explainability of complex models, dealing with biased data, and enhancing the robustness of algorithms against adversarial attacks. These are crucial areas for further exploration as they address some of the current limitations and challenges in the field, ultimately advancing the development and deployment of machine learning solutions in various domains.', \"Certainly, I'll make sure not to miss out on any lectures, as each one provides valuable insights and knowledge essential for a comprehensive understanding of the course material.\", 'Absolutely, attending every lecture is essential for continuous learning and growth.  Each lecture offers opportunities to gain new knowledge, deepen understanding, and explore different perspectives, all of which contribute to personal and intellectual development.', \"Of course, concentrating on the explanations provided during lectures is crucial for maximizing learning outcomes. I'll make sure to stay focused and absorb the information presented to enhance my understanding of the subject matter.\", \"That's a great suggestion! Reviewing lecture materials beforehand can indeed provide a solid foundation and better prepare me to grasp the concepts discussed during the lecture. I'll make sure to utilize this approach to enhance my understanding further.\", \"I would apply the concepts learned in today's lecture on machine learning to address a problem such as customer churn prediction for a subscription-based service. By employing classification algorithms taught in the lecture and utilizing historical customer data, I could develop a predictive model to identify customers at risk of churning. This would enable proactive measures to retain customers and optimize business strategies.\", 'One interesting insight from the lecture was the discussion on the ethical considerations of using machine learning algorithms, particularly regarding issues of bias and fairness. It was intriguing to delve into how biases in data can perpetuate societal inequalities and the importance of mitigating these biases in algorithmic decision-making processes. This topic sparked further reflection on the ethical implications of deploying machine learning systems in various contexts and the need for responsible AI practices.', 'Yes, the speed of the sessions and time management were reasonable. The lecturer effectively covered the planned topics within the allocated time, allowing for thorough explanations and ample opportunities for student engagement and discussion.', 'Yes, relevant course material was provided during the lecture, covering key concepts and topics essential for understanding machine learning principles and applications.', 'The lecturer recommended several useful resources for further study, including textbooks like \"Pattern Recognition and Machine Learning\" by Christopher M. Bishop and \"Introduction to Statistical Learning\" by Gareth James et al. Additionally, websites like Towards Data Science and periodicals such as the Journal of Machine Learning Research were suggested for staying updated on the latest research and developments in the field of machine learning.', 'Thank you! If you have any more  questions or need further clarification, feel free to ask.', \"Certainly! My opinion is based on the satisfaction I derived from the lecture experience. The content was well-organized and covered relevant topics in machine learning. The lecturer's approach to teaching, including clear explanations and effective time management, contributed to a positive learning  environment. Additionally, the recommended resources provided valuable supplementary material for further exploration. Overall, I believe future students will find this lecture beneficial for building a strong foundation in machine learning.\", \"I didn't encounter any significant inconveniences during the lecture. However, if I were to suggest areas for improvement, it might be helpful to incorporate more interactive activities or practical demonstrations to reinforce learning. Additionally, providing additional resources or study materials  in advance could further enhance the learning experience for students.\", 'Yes, the syllabus was substantially covered in the class. The lecture included discussions on various topics outlined in the syllabus, such as different machine learning algorithms, their applications, and ethical considerations. The content provided a comprehensive overview of the subject matter, aligning well with the course objectives.', 'Yes, the number of worked examples and tutorials provided during the lecture was adequate. They helped reinforce the theoretical concepts covered and allowed for practical application of the material, enhancing understanding and retention for students.', 'Yes, the lecturer promotes self-study by encouraging students to explore additional resources, such as textbooks, websites, and periodicals, to deepen their understanding of the subject matter. This emphasis on self-study fosters independent learning and allows students to delve deeper into areas of interest within the field of machine learning.', 'Yes, practical applications relevant to the module were extensively discussed during the lecture. The lecturer provided examples of how machine learning algorithms are applied in various real-world scenarios, such as healthcare, finance, and marketing. These practical applications helped illustrate the relevance and importance of the concepts covered in the module.', 'The lecturer actively facilitated and encouraged discussions among students throughout the lecture. They welcomed questions, encouraged participation, and fostered an interactive learning environment. This approach enhanced student engagement and allowed for the exchange of ideas and perspectives, enriching the learning experience for everyone.', 'The lecturer was highly effective in creating an environment conducive to  student participation. They encouraged questions, welcomed diverse viewpoints, and fostered a supportive atmosphere where students felt comfortable sharing their thoughts and engaging in discussions. This approach promoted active participation and enhanced the overall learning experience for everyone involved.', 'The lecturer consistently recognized and appreciated student responses throughout the lecture. They actively acknowledged contributions from students, providing positive feedback and validation for their input. This recognition helped foster a supportive and inclusive learning environment, encouraging continued engagement and participation from all students.', 'Thank you for your agreement! If you have any further questions or need additional information, feel free to ask.', \"The lecture offered a good balance between theory and practical applications, making the concepts clear and engaging. Professor Bishop's explanations were well-organized and easy to follow. This would be helpful for future students who want a solid foundation in machine learning.\", \"No inconvenience to report! I was very satisfied with the lecture overall.  If anything comes to mind, I'll be sure to let you know. \", 'Professor Bishop struck a good balance between encouraging participation and maintaining order. The lecture felt interactive without being disruptive.  ', \"Professor Bishop created a welcoming environment for questions. While I don't recall specific prompts to ask questions every minute, I felt comfortable raising my hand if something needed clarification. \", \"I can't say for certain about the feedback during discussions as my notes don't mention that specifically.  However, since I was satisfied with the level of student interaction, it's likely Professor Bishop provided constructive feedback when needed. \", \"Yes, the pace was likely consistent. As someone with good analytical skills, I would have noticed if the lecture significantly sped up or slowed down throughout. Since I don't recall any such issues, the pace was probably consistent. \", 'Yes. The lecture content was clear and explanations were well-organized, which suggests Professor Bishop maintained an appropriate speed for understanding.  ', \"I can't recall for certain whether Professor Bishop used a blackboard, whiteboard, or PowerPoint during the lecture.  My focus was on the clarity of the explanations, not the specific presentation method.  However, since I was very satisfied with the lecture overall, the chosen method(s) must have been effective  in conveying the information.\", \"Thank you!  I'm glad to hear our perspectives align.   \", 'As someone who appreciates clear explanations, I found the lecture well-structured and easy to follow. This suggests Professor Bishop likely used effective visuals or presentation methods to complement their explanations. This can be helpful for future students who learn  best with a combination of auditory and visual information. ', \"Like before, I didn't experience any major inconveniences during the lecture.  If anything arises in the future lectures, I'll be sure to mention them.  \", 'Yes. The lecture hall acoustics seemed good and Professor Bishop likely spoke clearly, because I had no trouble hearing or understanding them throughout the session. ', \"Very clear.  As someone with good reasoning skills, I rely on precise explanations. Professor Bishop's verbal explanations were well-organized and easy to  follow, which significantly contributed to my positive learning experience. \", \"Yes. The lecture balanced theory with practical applications, which likely helped break down complex concepts. Professor Bishop's clear explanations and well-organized delivery (as suggested by my previous points) would have further aided comprehension of these concepts. \"]\n"
     ]
    }
   ],
   "source": [
    "print (response_list)"
   ]
  },
  {
   "cell_type": "code",
   "execution_count": 28,
   "metadata": {},
   "outputs": [],
   "source": [
    "# Open a file named \"output.txt\" in write mode\n",
    "with open(\"user01.txt\", \"w\") as file:\n",
    "    # Write each string from the list to the file\n",
    "    for string in response_list:\n",
    "        file.write(string + \"\\n\")"
   ]
  },
  {
   "cell_type": "code",
   "execution_count": 46,
   "metadata": {},
   "outputs": [],
   "source": [
    "from simpful import *\n",
    "\n",
    "# calulating the fuzzy output value considering emotional cue and user engagement as input\n",
    "def calc_fuzzy(val1, val2):\n",
    "    # A simple fuzzy inference system for the tipping problem\n",
    "    # A simple fuzzy inference system for the tipping problem\n",
    "    # Create a fuzzy system object\n",
    "    FS = simpful.FuzzySystem()\n",
    "\n",
    "    # Define fuzzy sets and linguistic variables\n",
    "    S_1 = simpful.FuzzySet(points=[[0., 1.], [0.19, 1.], [0.49, 0.0]], term='Negative')\n",
    "    S_2 = simpful.FuzzySet(points=[[0.203 , 0.], [0.503 , 1.], [0.8023, 0.]], term=\"Neutral\")\n",
    "    S_3 = simpful.FuzzySet(points=[[0.5011, 0.], [0.798 , 1.], [1., 1.]], term=\"Positive\")\n",
    "    FS.add_linguistic_variable(\"Emotion\", simpful.LinguisticVariable([S_1, S_2, S_3], concept=\"Recent Emotion\", universe_of_discourse=[0,1]))\n",
    "\n",
    "    F_1 = simpful.FuzzySet(points=[[0., 1.], [0.097, 1.0], [0.2974, 0]], term=\"Very_low\")\n",
    "    F_2 = simpful.FuzzySet(points=[[0.157, 0.0], [0.34, 1.0], [0.5043, 0.0]], term=\"Low\")\n",
    "    F_3 = simpful.FuzzySet(points=[[0.4, 0.0], [0.5, 1], [0.6008, 0.0]], term=\"Medium\")\n",
    "    F_4 = simpful.FuzzySet(points=[[0.5, 0.0], [0.758, 1.0], [0.851, 0.0]], term=\"High\")\n",
    "    F_5 = simpful.FuzzySet(points=[[0.702, 0.0], [0.9009, 1], [1.0, 1.0]], term=\"Very_High\")\n",
    "    FS.add_linguistic_variable(\"Engagement\", simpful.LinguisticVariable([F_1, F_2, F_3, F_4, F_5], concept=\"User Engagement\", universe_of_discourse=[0,1]))\n",
    "\n",
    "    # Define output crisp values\n",
    "    FS.set_crisp_output_value(\"Supporting\", 0.1)\n",
    "    FS.set_crisp_output_value(\"Listening\", 0.5)\n",
    "    FS.set_crisp_output_value(\"Main\", 1.0)\n",
    "\n",
    "    # Define function for generous tip (food score + service score + 5%)\n",
    "    #FS.set_output_function(\"generous\", \"Food+Service+5\")\n",
    "\n",
    "    # Define fuzzy rules\n",
    "    R1 = \"IF (Emotion IS Negative) AND (Engagement IS Very_low) THEN (Tip IS Supporting)\"\n",
    "    R2 = \"IF (Emotion IS Negative) AND (Engagement IS Low) THEN (Tip IS Supporting)\"\n",
    "    R3 = \"IF (Emotion IS Negative) AND (Engagement IS Medium) THEN (Tip IS Supporting)\"\n",
    "    R4 = \"IF (Emotion IS Negative) AND (Engagement IS High) THEN (Tip IS Listening)\"\n",
    "    R5 = \"IF (Emotion IS Negative) AND (Engagement IS Very_High) THEN (Tip IS Listening)\"\n",
    "    R6 = \"IF (Emotion IS Neutral) AND (Engagement IS Very_low) THEN (Tip IS Supporting)\"\n",
    "    R7 = \"IF (Emotion IS Neutral) AND (Engagement IS Low) THEN (Tip IS Supporting)\"\n",
    "    R8 = \"IF (Emotion IS Neutral) AND (Engagement IS Medium) THEN (Tip IS Listening)\"\n",
    "    R9 = \"IF (Emotion IS Neutral) AND (Engagement IS High) THEN (Tip IS Main)\"\n",
    "    R10 = \"IF (Emotion IS Neutral) AND (Engagement IS Very_High) THEN (Tip IS Main)\"\n",
    "    R11 = \"IF (Emotion IS Positive) AND (Engagement IS Very_low) THEN (Tip IS Supporting)\"\n",
    "    R12 = \"IF (Emotion IS Positive) AND (Engagement IS Low) THEN (Tip IS Supporting)\"\n",
    "    R13 = \"IF (Emotion IS Positive) AND (Engagement IS Medium) THEN (Tip IS Listening)\"\n",
    "    R14 = \"IF (Emotion IS Positive) AND (Engagement IS High) THEN (Tip IS Main)\"\n",
    "    R15 = \"IF (Emotion IS Positive) AND (Engagement IS Very_High) THEN (Tip IS Main)\"\n",
    "    FS.add_rules([R1, R2, R3,R4,R5,R6,R7,R8,R9,R10,R11,R12,R13,R14,R15])\n",
    "\n",
    "\n",
    "    # Set antecedents values\n",
    "    FS.set_variable(\"Emotion\", val1)\n",
    "    FS.set_variable(\"Engagement\", val2)\n",
    "\n",
    "    # Perform Sugeno inference and print output\n",
    "    return(FS.Sugeno_inference([\"Tip\"]))"
   ]
  },
  {
   "cell_type": "code",
   "execution_count": 47,
   "metadata": {},
   "outputs": [
    {
     "name": "stdout",
     "output_type": "stream",
     "text": [
      "  ____  __  _  _  ____  ____  _  _  __   \n",
      " / ___)(  )( \\/ )(  _ \\(  __)/ )( \\(  ) v2.11.0 \n",
      " \\___ \\ )( / \\/ \\ ) __/ ) _) ) \\/ (/ (_/\\ \n",
      " (____/(__)\\_)(_/(__)  (__)  \\____/\\____/\n",
      "\n",
      " Created by Marco S. Nobile (m.s.nobile@tue.nl)\n",
      " and Simone Spolaor (simone.spolaor@unimib.it)\n",
      "\n",
      " * Detected Sugeno model type\n",
      "{'Tip': 0.1}\n",
      "  ____  __  _  _  ____  ____  _  _  __   \n",
      " / ___)(  )( \\/ )(  _ \\(  __)/ )( \\(  ) v2.11.0 \n",
      " \\___ \\ )( / \\/ \\ ) __/ ) _) ) \\/ (/ (_/\\ \n",
      " (____/(__)\\_)(_/(__)  (__)  \\____/\\____/\n",
      "\n",
      " Created by Marco S. Nobile (m.s.nobile@tue.nl)\n",
      " and Simone Spolaor (simone.spolaor@unimib.it)\n",
      "\n",
      " * Detected Sugeno model type\n",
      "{'Tip': 0.1}\n",
      "  ____  __  _  _  ____  ____  _  _  __   \n",
      " / ___)(  )( \\/ )(  _ \\(  __)/ )( \\(  ) v2.11.0 \n",
      " \\___ \\ )( / \\/ \\ ) __/ ) _) ) \\/ (/ (_/\\ \n",
      " (____/(__)\\_)(_/(__)  (__)  \\____/\\____/\n",
      "\n",
      " Created by Marco S. Nobile (m.s.nobile@tue.nl)\n",
      " and Simone Spolaor (simone.spolaor@unimib.it)\n",
      "\n",
      " * Detected Sugeno model type\n",
      "{'Tip': 0.48979833926453153}\n",
      "  ____  __  _  _  ____  ____  _  _  __   \n",
      " / ___)(  )( \\/ )(  _ \\(  __)/ )( \\(  ) v2.11.0 \n",
      " \\___ \\ )( / \\/ \\ ) __/ ) _) ) \\/ (/ (_/\\ \n",
      " (____/(__)\\_)(_/(__)  (__)  \\____/\\____/\n",
      "\n",
      " Created by Marco S. Nobile (m.s.nobile@tue.nl)\n",
      " and Simone Spolaor (simone.spolaor@unimib.it)\n",
      "\n",
      " * Detected Sugeno model type\n",
      "{'Tip': 1.0}\n",
      "  ____  __  _  _  ____  ____  _  _  __   \n",
      " / ___)(  )( \\/ )(  _ \\(  __)/ )( \\(  ) v2.11.0 \n",
      " \\___ \\ )( / \\/ \\ ) __/ ) _) ) \\/ (/ (_/\\ \n",
      " (____/(__)\\_)(_/(__)  (__)  \\____/\\____/\n",
      "\n",
      " Created by Marco S. Nobile (m.s.nobile@tue.nl)\n",
      " and Simone Spolaor (simone.spolaor@unimib.it)\n",
      "\n",
      " * Detected Sugeno model type\n",
      "{'Tip': 0.09999999999999999}\n",
      "  ____  __  _  _  ____  ____  _  _  __   \n",
      " / ___)(  )( \\/ )(  _ \\(  __)/ )( \\(  ) v2.11.0 \n",
      " \\___ \\ )( / \\/ \\ ) __/ ) _) ) \\/ (/ (_/\\ \n",
      " (____/(__)\\_)(_/(__)  (__)  \\____/\\____/\n",
      "\n",
      " Created by Marco S. Nobile (m.s.nobile@tue.nl)\n",
      " and Simone Spolaor (simone.spolaor@unimib.it)\n",
      "\n",
      " * Detected Sugeno model type\n",
      "{'Tip': 0.48979833926453153}\n",
      "  ____  __  _  _  ____  ____  _  _  __   \n",
      " / ___)(  )( \\/ )(  _ \\(  __)/ )( \\(  ) v2.11.0 \n",
      " \\___ \\ )( / \\/ \\ ) __/ ) _) ) \\/ (/ (_/\\ \n",
      " (____/(__)\\_)(_/(__)  (__)  \\____/\\____/\n",
      "\n",
      " Created by Marco S. Nobile (m.s.nobile@tue.nl)\n",
      " and Simone Spolaor (simone.spolaor@unimib.it)\n",
      "\n",
      " * Detected Sugeno model type\n",
      "{'Tip': 0.48979833926453153}\n",
      "  ____  __  _  _  ____  ____  _  _  __   \n",
      " / ___)(  )( \\/ )(  _ \\(  __)/ )( \\(  ) v2.11.0 \n",
      " \\___ \\ )( / \\/ \\ ) __/ ) _) ) \\/ (/ (_/\\ \n",
      " (____/(__)\\_)(_/(__)  (__)  \\____/\\____/\n",
      "\n",
      " Created by Marco S. Nobile (m.s.nobile@tue.nl)\n",
      " and Simone Spolaor (simone.spolaor@unimib.it)\n",
      "\n",
      " * Detected Sugeno model type\n",
      "{'Tip': 0.48979833926453153}\n",
      "  ____  __  _  _  ____  ____  _  _  __   \n",
      " / ___)(  )( \\/ )(  _ \\(  __)/ )( \\(  ) v2.11.0 \n",
      " \\___ \\ )( / \\/ \\ ) __/ ) _) ) \\/ (/ (_/\\ \n",
      " (____/(__)\\_)(_/(__)  (__)  \\____/\\____/\n",
      "\n",
      " Created by Marco S. Nobile (m.s.nobile@tue.nl)\n",
      " and Simone Spolaor (simone.spolaor@unimib.it)\n",
      "\n",
      " * Detected Sugeno model type\n",
      "{'Tip': 0.48979833926453153}\n"
     ]
    }
   ],
   "source": [
    "array1 = [[0.6666, 0.3333], [0.83333, 0.33333], [0.83333, 0.5], [1.0, 0.6666], [1.0, 0.16666], [1.0, 0.5], [1.0, 0.5], [1.0, 0.5], [1.0, 0.5]]\n",
    "\n",
    "for i in array1:\n",
    "    print(calc_fuzzy(i[0], i[-1]))"
   ]
  },
  {
   "cell_type": "code",
   "execution_count": 48,
   "metadata": {},
   "outputs": [
    {
     "name": "stdout",
     "output_type": "stream",
     "text": [
      "  ____  __  _  _  ____  ____  _  _  __   \n",
      " / ___)(  )( \\/ )(  _ \\(  __)/ )( \\(  ) v2.11.0 \n",
      " \\___ \\ )( / \\/ \\ ) __/ ) _) ) \\/ (/ (_/\\ \n",
      " (____/(__)\\_)(_/(__)  (__)  \\____/\\____/\n",
      "\n",
      " Created by Marco S. Nobile (m.s.nobile@tue.nl)\n",
      " and Simone Spolaor (simone.spolaor@unimib.it)\n",
      "\n",
      " * Detected Sugeno model type\n",
      "{'Tip': 0.48979833926453153}\n",
      "  ____  __  _  _  ____  ____  _  _  __   \n",
      " / ___)(  )( \\/ )(  _ \\(  __)/ )( \\(  ) v2.11.0 \n",
      " \\___ \\ )( / \\/ \\ ) __/ ) _) ) \\/ (/ (_/\\ \n",
      " (____/(__)\\_)(_/(__)  (__)  \\____/\\____/\n",
      "\n",
      " Created by Marco S. Nobile (m.s.nobile@tue.nl)\n",
      " and Simone Spolaor (simone.spolaor@unimib.it)\n",
      "\n",
      " * Detected Sugeno model type\n",
      "{'Tip': 0.1}\n"
     ]
    }
   ],
   "source": [
    "print(calc_fuzzy(0.8333, 0.5))\n",
    "print(calc_fuzzy(0.8333, 0.3333))"
   ]
  }
 ],
 "metadata": {
  "kernelspec": {
   "display_name": "Python 3",
   "language": "python",
   "name": "python3"
  },
  "language_info": {
   "codemirror_mode": {
    "name": "ipython",
    "version": 3
   },
   "file_extension": ".py",
   "mimetype": "text/x-python",
   "name": "python",
   "nbconvert_exporter": "python",
   "pygments_lexer": "ipython3",
   "version": "3.10.9"
  }
 },
 "nbformat": 4,
 "nbformat_minor": 2
}
