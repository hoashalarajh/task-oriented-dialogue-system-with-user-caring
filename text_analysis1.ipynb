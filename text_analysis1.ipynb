{
 "cells": [
  {
   "cell_type": "code",
   "execution_count": 1,
   "metadata": {},
   "outputs": [],
   "source": [
    "# importing dependencies\n",
    "import numpy as np"
   ]
  },
  {
   "cell_type": "code",
   "execution_count": 2,
   "metadata": {},
   "outputs": [],
   "source": [
    "text1 = [\n",
    "    \"The main key points from today's lecture on machine learning with Professor Bishop included understanding various algorithms, their applications, and practical implementations.\",\n",
    "    \"The lecture with Professor Bishop covered a wide range of topics in machine learning, from fundamental algorithms to their real-world applications. It provided a balanced mix of theory and practical insights, making it an enriching learning experience.\",\n",
    "    \"No, I found the concepts discussed in the lecture to be clear and understandable.\",\n",
    "    \"The material covered in this lecture builds upon the foundational concepts we've previously discussed in the course. It extends our understanding of machine learning algorithms and their applications, providing deeper insights into the field.\",\n",
    "    \"One real-life application discussed in the lecture is the use of machine learning algorithms in healthcare for diagnosing diseases based on medical imaging data, such as X-rays or MRI scans.\",\n",
    "    \"Yes, the lecturer mentioned some open questions and areas of research related to machine learning, such as improving the interpretability and explainability of complex models, dealing with biased data, and enhancing the robustness of algorithms against adversarial attacks. These are crucial areas for further exploration as they address some of the current limitations and challenges in the field, ultimately advancing the development and deployment of machine learning solutions in various domains.\"\n",
    "]"
   ]
  },
  {
   "cell_type": "code",
   "execution_count": 3,
   "metadata": {},
   "outputs": [
    {
     "name": "stdout",
     "output_type": "stream",
     "text": [
      "Number of responses in text1 is: 6\n"
     ]
    }
   ],
   "source": [
    "print (f\"Number of responses in text1 is: {len(text1)}\")\n",
    "# function for getting length of each sentences into a list\n",
    "def get_length(text):\n",
    "    len_list = []\n",
    "    for i in text:\n",
    "        words = i.split()\n",
    "        len_list.append(len(words))\n",
    "    return len_list"
   ]
  },
  {
   "cell_type": "code",
   "execution_count": 4,
   "metadata": {},
   "outputs": [],
   "source": [
    "# function for getting text analytics\n",
    "def get_text_analytics(len_list):\n",
    "    #calculate interquartile range \n",
    "    q3, q2, q1 = np.percentile(len_list, [75,50,25])\n",
    "    iqr = q3 - q1\n",
    "    # computing mean\n",
    "    avg_length = np.mean(len_list)\n",
    "    # computiing minimum\n",
    "    min_length = np.min(len_list)\n",
    "    #printing\n",
    "    print (f\"Q1 is: {q1}\")\n",
    "    print (f\"Q2 alias Meadian is: {q2}\")\n",
    "    print (f\"Q3 is: {q3}\")\n",
    "    print (f\"The interquartile range is: {iqr}\")\n",
    "    print (f\"Mean is:{np.mean(len_list)}\")\n",
    "    print (f\"Minimum is: {min_length}\")\n",
    "    print (f\"Sentences greater than Q1 are: {len([num for num in len_list if num > q1])}\")\n",
    "    print (f\"Sentences greater than Q2 alias Median are: {len([num for num in len_list if num > q2])}\")\n",
    "    print (f\"Sentences greater than Q3 are: {len([num for num in len_list if num > q3])}\")\n",
    "    print (f\"Sentences greater than AverageLength are: {len([num for num in len_list if num > avg_length])}\")\n",
    "    print (f\"Sentences greater than InterQuartileRange are: {len([num for num in len_list if num > iqr])}\")\n",
    "    print (f\"Sentences greater than MinimumLength are: {len([num for num in len_list if num > min_length])}\")"
   ]
  },
  {
   "cell_type": "markdown",
   "metadata": {},
   "source": [
    "### Scenario#01"
   ]
  },
  {
   "cell_type": "code",
   "execution_count": 5,
   "metadata": {},
   "outputs": [
    {
     "name": "stdout",
     "output_type": "stream",
     "text": [
      "Q1 is: 24.0\n",
      "Q2 alias Meadian is: 32.0\n",
      "Q3 is: 36.25\n",
      "The interquartile range is: 12.25\n",
      "Mean is:34.666666666666664\n",
      "Minimum is: 14\n",
      "Sentences greater than Q1 are: 4\n",
      "Sentences greater than Q2 alias Median are: 3\n",
      "Sentences greater than Q3 are: 2\n",
      "Sentences greater than AverageLength are: 2\n",
      "Sentences greater than InterQuartileRange are: 6\n",
      "Sentences greater than MinimumLength are: 5\n"
     ]
    }
   ],
   "source": [
    "# getting analytics\n",
    "get_text_analytics(get_length(text1))"
   ]
  },
  {
   "cell_type": "code",
   "execution_count": 6,
   "metadata": {},
   "outputs": [
    {
     "data": {
      "text/plain": [
       "[22, 37, 14, 34, 30, 71]"
      ]
     },
     "execution_count": 6,
     "metadata": {},
     "output_type": "execute_result"
    }
   ],
   "source": [
    "# getting length profile\n",
    "get_length(text1)"
   ]
  },
  {
   "cell_type": "markdown",
   "metadata": {},
   "source": [
    "#### Scenario#02"
   ]
  },
  {
   "cell_type": "code",
   "execution_count": 7,
   "metadata": {},
   "outputs": [],
   "source": [
    "text2 = [\n",
    "    \"Certainly, I'll make sure not to miss out on any lectures, as each one provides valuable insights and knowledge essential for a comprehensive understanding of the course material.\",\n",
    "    \"Absolutely, attending every lecture is essential for continuous learning and growth. Each lecture offers opportunities to gain new knowledge, deepen understanding, and explore different perspectives, all of which contribute to personal and intellectual development.\",\n",
    "    \"Of course, concentrating on the explanations provided during lectures is crucial for maximizing learning outcomes. I'll make sure to stay focused and absorb the information presented to enhance my understanding of the subject matter.\",\n",
    "    \"That's a great suggestion! Reviewing lecture materials beforehand can indeed provide a solid foundation and better prepare me to grasp the concepts discussed during the lecture. I'll make sure to utilize this approach to enhance my understanding further.\",\n",
    "    \"I would apply the concepts learned in today's lecture on machine learning to address a problem such as customer churn prediction for a subscription-based service. By employing classification algorithms taught in the lecture and utilizing historical customer data, I could develop a predictive model to identify customers at risk of churning. This would enable proactive measures to retain customers and optimize business strategies.\",\n",
    "    \"One interesting insight from the lecture was the discussion on the ethical considerations of using machine learning algorithms, particularly regarding issues of bias and fairness. It was intriguing to delve into how biases in data can perpetuate societal inequalities and the importance of mitigating these biases in algorithmic decision-making processes. This topic sparked further reflection on the ethical implications of deploying machine learning systems in various contexts and the need for responsible AI practices.\"\n",
    "]"
   ]
  },
  {
   "cell_type": "code",
   "execution_count": 8,
   "metadata": {},
   "outputs": [
    {
     "name": "stdout",
     "output_type": "stream",
     "text": [
      "Q1 is: 34.0\n",
      "Q2 alias Meadian is: 36.0\n",
      "Q3 is: 56.75\n",
      "The interquartile range is: 22.75\n",
      "Mean is:45.166666666666664\n",
      "Minimum is: 28\n",
      "Sentences greater than Q1 are: 3\n",
      "Sentences greater than Q2 alias Median are: 3\n",
      "Sentences greater than Q3 are: 2\n",
      "Sentences greater than AverageLength are: 2\n",
      "Sentences greater than InterQuartileRange are: 6\n",
      "Sentences greater than MinimumLength are: 5\n"
     ]
    }
   ],
   "source": [
    "# getting analytics\n",
    "get_text_analytics(get_length(text2))"
   ]
  },
  {
   "cell_type": "code",
   "execution_count": 14,
   "metadata": {},
   "outputs": [
    {
     "name": "stdout",
     "output_type": "stream",
     "text": [
      "[28 34 34 38 63 74]\n",
      "[0.4375   0.53125  0.53125  0.59375  0.984375 1.15625 ]\n",
      "[0.875   1.0625  1.0625  1.1875  1.96875 2.3125 ]\n"
     ]
    }
   ],
   "source": [
    "# getting length profile\n",
    "import numpy as np\n",
    "array_2 = np.array(get_length(text2))\n",
    "print (array_2)\n",
    "print (array_2 / 64)\n",
    "print (array_2 / 32)"
   ]
  },
  {
   "cell_type": "code",
   "execution_count": null,
   "metadata": {},
   "outputs": [],
   "source": []
  }
 ],
 "metadata": {
  "kernelspec": {
   "display_name": "Python 3",
   "language": "python",
   "name": "python3"
  },
  "language_info": {
   "codemirror_mode": {
    "name": "ipython",
    "version": 3
   },
   "file_extension": ".py",
   "mimetype": "text/x-python",
   "name": "python",
   "nbconvert_exporter": "python",
   "pygments_lexer": "ipython3",
   "version": "3.10.9"
  }
 },
 "nbformat": 4,
 "nbformat_minor": 2
}
